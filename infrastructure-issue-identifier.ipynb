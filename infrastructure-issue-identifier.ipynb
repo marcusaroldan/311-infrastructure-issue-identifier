{
 "cells": [
  {
   "cell_type": "code",
   "execution_count": 2,
   "metadata": {},
   "outputs": [],
   "source": [
    "import json\n",
    "from Levenshtein import distance as word_difference\n",
    "from gensim.utils import simple_preprocess\n",
    "import re\n",
    "import matplotlib.pyplot as plt\n",
    "import pandas as pd\n",
    "import math\n",
    "from nltk.corpus import words\n",
    "from tqdm import tqdm"
   ]
  },
  {
   "cell_type": "markdown",
   "metadata": {},
   "source": [
    "Uncomment the following cell and run it once to download a list of all English words for use in fuzzy keyword matching."
   ]
  },
  {
   "cell_type": "code",
   "execution_count": 3,
   "metadata": {},
   "outputs": [],
   "source": [
    "# import nltk\n",
    "# nltk.download('words')"
   ]
  },
  {
   "cell_type": "markdown",
   "metadata": {},
   "source": [
    "This notebook requires a JSON file conatining an array of Open311 Service Request Objects. An example file, ```service_requests.json``` is provided in the data directory."
   ]
  },
  {
   "cell_type": "code",
   "execution_count": 4,
   "metadata": {},
   "outputs": [],
   "source": [
    "# Change this file name if using a different service request source.\n",
    "SERVICE_REQ_JSON_FILE_NAME = 'data/service_requests.json'"
   ]
  },
  {
   "cell_type": "code",
   "execution_count": 5,
   "metadata": {},
   "outputs": [],
   "source": [
    "def extract_request_id_with_description(filename:str) -> dict:\n",
    "    ''' \n",
    "    For a given file containing a JSON Array of Service Request JSON Objects, extract the service number and the description\n",
    "    (if it exists) into a dictionary for further preprocessing.\n",
    "\n",
    "    Returns: Dict (Service Request ID -> Service Request Description)\n",
    "    '''\n",
    "    request_id_descr_dict = {}\n",
    "    service_requests_json = json.loads(open(filename, 'r').read())\n",
    "\n",
    "    for service_request in service_requests_json:\n",
    "        # Ensure the description exists for this service request\n",
    "        description = service_request.get('description', False)\n",
    "        if not description: continue   \n",
    "\n",
    "        # Deprecated code to append status notes (added by 311 to reports to detail the outcome / results) to the descriptions.\n",
    "        # status_notes = service_request.get('status_notes', False)\n",
    "        # if status_notes:\n",
    "        #     description = description + ' | ' + status_notes\n",
    "\n",
    "        # Add to dictionary using service request ID as key and service request description as value.\n",
    "        request_id_descr_dict[service_request['service_request_id']] = description\n",
    "\n",
    "    return request_id_descr_dict"
   ]
  },
  {
   "cell_type": "code",
   "execution_count": 6,
   "metadata": {},
   "outputs": [],
   "source": [
    "# Load the 311 Service requests. Serves as the corpus for this notebook. \n",
    "# Corpus is composed of 311 Illegal Parking Service Request descriptions (documents).\n",
    "\n",
    "document_dictionary = extract_request_id_with_description(SERVICE_REQ_JSON_FILE_NAME)"
   ]
  },
  {
   "cell_type": "code",
   "execution_count": 7,
   "metadata": {},
   "outputs": [
    {
     "name": "stdout",
     "output_type": "stream",
     "text": [
      "Total number of documents in the corpus: 9638\n"
     ]
    }
   ],
   "source": [
    "print(f'Total number of documents in the corpus: {len(document_dictionary.keys())}')"
   ]
  },
  {
   "cell_type": "markdown",
   "metadata": {},
   "source": [
    "In order to identify infrastructure issues from the documents and classify them, the following classes and associated keywords have been defined.\n",
    "\n",
    "The notebook can classify documents into one of an arbitrary number of classes with arbitrary keywords. Feel free to change the class structure and keywords. However, keywords should be specific enough to only apply to a single class."
   ]
  },
  {
   "cell_type": "code",
   "execution_count": 8,
   "metadata": {},
   "outputs": [],
   "source": [
    "class_keywords = {\n",
    "\n",
    "    'bike infra': ['bike', 'cycle'],\n",
    "    'public transit infra': ['bus'],\n",
    "    'emergency infra':  ['hydrant', 'fire'],\n",
    "    'resident parking': ['resident', 'nonresident', 'sticker'],\n",
    "    'driveway': ['driveway'],\n",
    "    'pedestrian infra':  ['crosswalk', 'sidewalk'],\n",
    "    'accesibility infra': ['handicap'],\n",
    "    'traffic flow impediment': ['double', 'stopped']\n",
    "\n",
    "}"
   ]
  },
  {
   "cell_type": "code",
   "execution_count": 17,
   "metadata": {},
   "outputs": [],
   "source": [
    "def categorize_illegal_parking_reports(descriptions:dict, class_keywords:dict, max_distance:int=1):\n",
    "    ''' \n",
    "    Given a corpus, classes and associated keywords, as well as a number of acceptable typos,\n",
    "    classify as many documents in the courpus into a single class as possible.\n",
    "\n",
    "    First match direct keywords, then look for typos up to the given limit.\n",
    "\n",
    "    :param descriptions: dictionary corpus with document id as keys, document text as values\n",
    "    :param class_keywords: dictionary mapping of class name (key) to list of keywords (value)\n",
    "    :param max_distance: maximum number of typos allowed for a fuzzy keyword match. To disallow fuzzy matches, max_distance=0\n",
    "\n",
    "    :returns: \n",
    "        uncategorized_descriptions: dictionary of document id to document text\n",
    "        class_service_ids: dictionary of class names to list of document ids with keyword matches\n",
    "        service_id_classes: dictionary of document ids to list of identified classes (currently only supports 1 class per document, but exists for extensibility)\n",
    "        distance_matches: dictionary of typo-distances (int) to dictionary of fuzzy matches (class_service_ids format)\n",
    "        keyword_matches: dictionary of document ids to a list of keyword matches in the document\n",
    "    '''\n",
    "\n",
    "    match_count = 0\n",
    "\n",
    "    # Tokenize descriptions\n",
    "    description_tokens = {id: simple_preprocess(description, deacc=True) for id, description in descriptions.items()}\n",
    "\n",
    "    # Create new dictionary to keep track of descriptions that are not yet categorized\n",
    "    uncategorized_descriptions = dict(description_tokens)\n",
    "\n",
    "    # Create dictionary for the list of service ids for each class\n",
    "    class_service_ids = {}\n",
    "\n",
    "    # Create dictionary to track classes assigned to service ids (to analyze prevalance of multiclass descriptions)\n",
    "    service_id_classes = {}\n",
    "\n",
    "    # Create dictionary to track the keyword matches for categorized documents\n",
    "    keyword_matches = {}\n",
    "\n",
    "    # Find exact matches\n",
    "    print('Finding exact matches...')\n",
    "    uncategorized_descriptions_items = list(uncategorized_descriptions.items())\n",
    "    for id, tokens in tqdm(uncategorized_descriptions_items):\n",
    "        match_found = False\n",
    "        for category, keywords in class_keywords.items():\n",
    "            current_match = keywords_match(keywords, tokens)\n",
    "            if current_match[0]:\n",
    "                match_found = True\n",
    "                match_count += 1\n",
    "\n",
    "                # Track the match in all three dicts\n",
    "                # keyword_class: [list of service ids]\n",
    "                service_ids:list = class_service_ids.get(category, [])\n",
    "                service_ids.append(id)\n",
    "                class_service_ids[category] = service_ids\n",
    "\n",
    "                # service_id: [list of keyword classes]\n",
    "                classes = service_id_classes.get(id, [])\n",
    "                classes.append(category)\n",
    "                service_id_classes[id] = classes\n",
    "\n",
    "                # service_id: [list of keyword matches]\n",
    "                matched_keywords = keyword_matches.get(id, [])\n",
    "                matched_keywords.append(current_match[1])\n",
    "                keyword_matches[id] = matched_keywords\n",
    "        \n",
    "        # If any match was found remove it from the uncategorized dictionary\n",
    "        if match_found: del uncategorized_descriptions[id]\n",
    "\n",
    "    # find matches with increasing distance\n",
    "    # create dictionary to hold fuzzy matches\n",
    "    distance_matches = {}\n",
    "\n",
    "    # Load list of valid English words\n",
    "    valid_words = words.words()\n",
    "    valid_words = list(map(lambda s: s.lower(), valid_words))\n",
    "\n",
    "    print('Looking for typo matches...')\n",
    "    for distance in range(max_distance): \n",
    "        print(f'\\t{distance} typo(es)')\n",
    "        distance += 1\n",
    "        current_distance_matches = {}\n",
    "        uncategorized_descriptions_items = list(uncategorized_descriptions.items())\n",
    "        for id, tokens in tqdm(uncategorized_descriptions_items):\n",
    "            match_found = False\n",
    "            for category, keywords in class_keywords.items():\n",
    "                current_match = keywords_fuzzy_match(keywords, tokens, distance, valid_words)\n",
    "                if current_match[0]:\n",
    "                    match_found = True\n",
    "                    match_count += 1\n",
    "\n",
    "                    # Track the match in all dicts\n",
    "                    # keyword_class: [list of service ids]\n",
    "                    service_ids = class_service_ids.get(category, [])\n",
    "                    service_ids.append(id)\n",
    "                    class_service_ids[category] = service_ids\n",
    "\n",
    "                    # service_id: [list of keyword classes]\n",
    "                    classes = service_id_classes.get(id, [])\n",
    "                    classes.append(category)\n",
    "                    service_id_classes[id] = classes\n",
    "\n",
    "                    # distance(INTEGER) : dict of category matches for distance\n",
    "                    distance_classes = current_distance_matches.get(category, [])\n",
    "                    distance_classes.append(id)\n",
    "                    current_distance_matches[category] = distance_classes\n",
    "\n",
    "                    # service_id: [list of keyword matches]\n",
    "                    matched_keywords = keyword_matches.get(id, [])\n",
    "                    matched_keywords.append(current_match[1])\n",
    "                    keyword_matches[id] = matched_keywords\n",
    "\n",
    "            \n",
    "            # If any match was found remove it from the uncategorized dictionary\n",
    "            if match_found: del uncategorized_descriptions[id]\n",
    "        \n",
    "        distance_matches[distance] = current_distance_matches\n",
    "    \n",
    "    # print(f'Found {match_count} matches!')\n",
    "    return uncategorized_descriptions, class_service_ids, service_id_classes, distance_matches, keyword_matches\n",
    "\n",
    "\n",
    "def keywords_match(keywords:list[str], tokens:list[str]):\n",
    "    ''' \n",
    "    Look for exact keyword matches in the tokens.\n",
    "    '''\n",
    "    affix_pattern = r'[a-z]*'\n",
    "    for keyword in keywords:\n",
    "        keyword_pattern = re.compile(affix_pattern + keyword + affix_pattern)\n",
    "        all_tokens = str.join(' ', tokens)\n",
    "        matches = re.findall(keyword_pattern, all_tokens)\n",
    "        if matches:\n",
    "            return True, str.join(', ', matches)\n",
    "        \n",
    "    return False, None\n",
    "\n",
    "def keywords_fuzzy_match(keywords:list[str], tokens:list[str], distance:int, valid_words:list):\n",
    "    ''' \n",
    "    Look for fuzzy keyword matches using Levenshtein edit distance.\n",
    "    In order to reduce the amount of misidentifications, any typos must not exceed one-third of the length of the token.\n",
    "    For example, the keyword 'bus' cannot be matched with 'mut' even if the number of allowable typoes is 4,\n",
    "    because 2 edits is more than one-third of the token length.\n",
    "    '''\n",
    "    for keyword in keywords:\n",
    "        for token in tokens:\n",
    "            # if token in valid_words: continue\n",
    "            difference = word_difference(keyword, token)\n",
    "            if difference <= distance and difference >= math.ceil(len(token) * float(1/5)):\n",
    "                # Try to catch correctly typed words here:\n",
    "                if token in valid_words:\n",
    "                    return False, None\n",
    "                return True, f'({token}, {keyword})'\n",
    "            \n",
    "    return False, None"
   ]
  },
  {
   "cell_type": "code",
   "execution_count": 18,
   "metadata": {},
   "outputs": [
    {
     "name": "stdout",
     "output_type": "stream",
     "text": [
      "Finding exact matches...\n"
     ]
    },
    {
     "name": "stderr",
     "output_type": "stream",
     "text": [
      "100%|██████████| 9638/9638 [00:02<00:00, 3506.29it/s]\n"
     ]
    },
    {
     "name": "stdout",
     "output_type": "stream",
     "text": [
      "Looking for typo matches...\n",
      "\t0 typo(es)\n"
     ]
    },
    {
     "name": "stderr",
     "output_type": "stream",
     "text": [
      "100%|██████████| 3633/3633 [00:01<00:00, 2370.36it/s]\n"
     ]
    }
   ],
   "source": [
    "# Run the above functions:\n",
    "unknown_desc, class_service_ids, service_id_classes, distance_matches, keyword_matches = categorize_illegal_parking_reports(document_dictionary, class_keywords, 1)"
   ]
  },
  {
   "cell_type": "code",
   "execution_count": 19,
   "metadata": {},
   "outputs": [
    {
     "name": "stdout",
     "output_type": "stream",
     "text": [
      "# Unknown Documents: 3631\n",
      "# Classified Documents: 6565\n",
      "# Distance Matches: 2\n"
     ]
    }
   ],
   "source": [
    "print(f'# Unknown Documents: {len(unknown_desc)}')\n",
    "print(f'# Classified Documents: {sum([len(class_service_ids[cat]) for cat in class_service_ids.keys()])}')\n",
    "print(f'# Distance Matches: {sum([len(distance_matches[dist][cat]) for dist in distance_matches.keys() for cat in distance_matches[dist].keys()])}')"
   ]
  },
  {
   "cell_type": "markdown",
   "metadata": {},
   "source": [
    "Take the results of the categorization and process them into DataFrames for visualization"
   ]
  },
  {
   "cell_type": "code",
   "execution_count": 20,
   "metadata": {},
   "outputs": [
    {
     "data": {
      "text/html": [
       "<div>\n",
       "<style scoped>\n",
       "    .dataframe tbody tr th:only-of-type {\n",
       "        vertical-align: middle;\n",
       "    }\n",
       "\n",
       "    .dataframe tbody tr th {\n",
       "        vertical-align: top;\n",
       "    }\n",
       "\n",
       "    .dataframe thead th {\n",
       "        text-align: right;\n",
       "    }\n",
       "</style>\n",
       "<table border=\"1\" class=\"dataframe\">\n",
       "  <thead>\n",
       "    <tr style=\"text-align: right;\">\n",
       "      <th></th>\n",
       "      <th>resident parking</th>\n",
       "      <th>driveway</th>\n",
       "      <th>traffic flow impediment</th>\n",
       "      <th>pedestrian infra</th>\n",
       "      <th>accesibility infra</th>\n",
       "      <th>emergency infra</th>\n",
       "      <th>bike infra</th>\n",
       "      <th>public transit infra</th>\n",
       "    </tr>\n",
       "  </thead>\n",
       "  <tbody>\n",
       "    <tr>\n",
       "      <th>num_ids</th>\n",
       "      <td>2241</td>\n",
       "      <td>701</td>\n",
       "      <td>412</td>\n",
       "      <td>907</td>\n",
       "      <td>455</td>\n",
       "      <td>1009</td>\n",
       "      <td>347</td>\n",
       "      <td>493</td>\n",
       "    </tr>\n",
       "  </tbody>\n",
       "</table>\n",
       "</div>"
      ],
      "text/plain": [
       "         resident parking  driveway  traffic flow impediment  \\\n",
       "num_ids              2241       701                      412   \n",
       "\n",
       "         pedestrian infra  accesibility infra  emergency infra  bike infra  \\\n",
       "num_ids               907                 455             1009         347   \n",
       "\n",
       "         public transit infra  \n",
       "num_ids                   493  "
      ]
     },
     "execution_count": 20,
     "metadata": {},
     "output_type": "execute_result"
    }
   ],
   "source": [
    "class_distr = {cat: len(ids) for cat, ids in class_service_ids.items()}\n",
    "class_distr_df = pd.DataFrame(data=class_distr, index=['num_ids'])\n",
    "class_distr_df.head()"
   ]
  },
  {
   "cell_type": "code",
   "execution_count": 21,
   "metadata": {},
   "outputs": [
    {
     "data": {
      "text/plain": [
       "([<matplotlib.patches.Wedge at 0x2c7a2ea2800>,\n",
       "  <matplotlib.patches.Wedge at 0x2c7a2ea0430>,\n",
       "  <matplotlib.patches.Wedge at 0x2c7a2ea2260>,\n",
       "  <matplotlib.patches.Wedge at 0x2c7a2ea0700>,\n",
       "  <matplotlib.patches.Wedge at 0x2c7a2ea14e0>,\n",
       "  <matplotlib.patches.Wedge at 0x2c79faf5090>,\n",
       "  <matplotlib.patches.Wedge at 0x2c79faf4970>,\n",
       "  <matplotlib.patches.Wedge at 0x2c7a2e7d270>],\n",
       " [Text(0.5258188397235887, 0.9661855659197871, 'resident parking'),\n",
       "  Text(-0.86808862002368, 0.6755902217952708, 'driveway'),\n",
       "  Text(-1.090898824128335, 0.14120819917914104, 'traffic flow impediment'),\n",
       "  Text(-0.964038750506893, -0.5297445493075965, 'pedestrian infra'),\n",
       "  Text(-0.4450848222210132, -1.0059321552811051, 'accesibility infra'),\n",
       "  Text(0.3082295338168038, -1.0559330255669988, 'emergency infra'),\n",
       "  Text(0.8836899399210765, -0.6550512118012486, 'bike infra'),\n",
       "  Text(1.0695300587256698, -0.2571098082187177, 'public transit infra')])"
      ]
     },
     "execution_count": 21,
     "metadata": {},
     "output_type": "execute_result"
    },
    {
     "data": {
      "image/png": "[encoded data removed]",
      "text/plain": [
       "<Figure size 640x480 with 1 Axes>"
      ]
     },
     "metadata": {},
     "output_type": "display_data"
    }
   ],
   "source": [
    "plt.clf()\n",
    "plt.pie(x=class_distr.values(), labels=class_distr.keys())"
   ]
  },
  {
   "cell_type": "markdown",
   "metadata": {},
   "source": [
    "## Packing up the classifications\n",
    "\n",
    "Will be the same as the service request JSON objects, but will have an additional field 'CLASS' which is one of:\n",
    "- resident parking\n",
    "- blocked driveway\n",
    "- blocked public transit infra\n",
    "- traffic flow impediment\n",
    "- blocked pedestrian infra\n",
    "- blocked accesibility infra\n",
    "- blocked emergency infra\n",
    "- blocked bike infra\n",
    "- unknown (uncategorized, contains no keywords within edit distance limit)\n",
    "\n",
    "Additional field 'DIST' shows the edit distance of the service request. For example, a service request that contains a keyword with a single typo \n",
    "will have value 1. Two typos will have value 2."
   ]
  },
  {
   "cell_type": "code",
   "execution_count": 22,
   "metadata": {},
   "outputs": [],
   "source": [
    "CATEGORIZED_REPORTS_FILENAME = 'data/infra_issues.json'"
   ]
  },
  {
   "cell_type": "code",
   "execution_count": 23,
   "metadata": {},
   "outputs": [],
   "source": [
    "# Load the json service requests into a dictionary with keys=id, values=json_obj\n",
    "service_req_json = json.loads(open(SERVICE_REQ_JSON_FILE_NAME, 'r').read())\n",
    "\n",
    "service_req_json_dict = {obj['service_request_id']: obj for obj in service_req_json}\n",
    "\n",
    "# go through each class, find each service id json object, add the proper fields, then save the json\n",
    "\n",
    "classified_service_requests = []\n",
    "\n",
    "# Distance zero requests\n",
    "distance = 0\n",
    "for class_name, ids in class_service_ids.items():\n",
    "    for req_id in ids:\n",
    "        req_json = service_req_json_dict[req_id]\n",
    "        req_json['class'] = class_name\n",
    "        req_json['distance'] = distance\n",
    "        req_json['keyword_matches'] = keyword_matches[req_id]\n",
    "        classified_service_requests.append(req_json)\n",
    "\n",
    "# Distance requests\n",
    "for dist, matches in distance_matches.items():\n",
    "    distance = dist\n",
    "    for class_name, ids in matches.items():\n",
    "        for req_id in ids:\n",
    "            req_json = service_req_json_dict[req_id]\n",
    "            req_json['class'] = class_name\n",
    "            req_json['distance'] = distance\n",
    "            req_json['keyword_matches'] = keyword_matches[req_id]\n",
    "            classified_service_requests.append(req_json)\n",
    "\n",
    "\n",
    "with open(CATEGORIZED_REPORTS_FILENAME, 'w') as file:\n",
    "    json.dump(classified_service_requests, file)\n"
   ]
  }
 ],
 "metadata": {
  "kernelspec": {
   "display_name": ".venv",
   "language": "python",
   "name": "python3"
  },
  "language_info": {
   "codemirror_mode": {
    "name": "ipython",
    "version": 3
   },
   "file_extension": ".py",
   "mimetype": "text/x-python",
   "name": "python",
   "nbconvert_exporter": "python",
   "pygments_lexer": "ipython3",
   "version": "3.10.2"
  }
 },
 "nbformat": 4,
 "nbformat_minor": 2
}
